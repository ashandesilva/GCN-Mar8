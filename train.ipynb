{
 "cells": [
  {
   "cell_type": "markdown",
   "metadata": {},
   "source": [
    "# Human Pose Classification using GCN\n",
    "\n",
    "This notebook implements the training pipeline for classifying human poses using Graph Convolutional Networks (GCN)."
   ]
  },
  {
   "cell_type": "code",
   "execution_count": null,
   "metadata": {},
   "outputs": [],
   "source": [
    "# Import required libraries\n",
    "import torch\n",
    "from torch_geometric.loader import DataLoader\n",
    "import torch.optim as optim\n",
    "from tqdm.notebook import tqdm\n",
    "import numpy as np\n",
    "from sklearn.metrics import accuracy_score, precision_recall_fscore_support\n",
    "import matplotlib.pyplot as plt\n",
    "import os\n",
    "\n",
    "# Import our modules\n",
    "import sys\n",
    "sys.path.append('src')\n",
    "from data_processing import load_dataset\n",
    "from gcn_model import PoseGCN\n",
    "\n",
    "print(\"All libraries imported successfully!\")"
   ]
  },
  {
   "cell_type": "markdown",
   "metadata": {},
   "source": [
    "## Check Data Paths"
   ]
  },
  {
   "cell_type": "code",
   "execution_count": null,
   "metadata": {},
   "outputs": [],
   "source": [
    "# Define and verify data paths\n",
    "data_dir = os.path.join(os.getcwd(), 'data_v2')\n",
    "annotation_dir = os.path.join(os.getcwd(), 'annotations_v2')\n",
    "\n",
    "# Check if directories exist\n",
    "print(f\"Checking data directory: {data_dir}\")\n",
    "print(f\"Exists: {os.path.exists(data_dir)}\")\n",
    "\n",
    "print(f\"\\nChecking annotation directory: {annotation_dir}\")\n",
    "print(f\"Exists: {os.path.exists(annotation_dir)}\")\n",
    "\n",
    "# Check annotation files\n",
    "annotation_files = [\n",
    "    't5-sherul-300-195-correct.json',\n",
    "    'lumbar-K-1.1-160.json'\n",
    "]\n",
    "\n",
    "print(\"\\nChecking annotation files:\")\n",
    "for file in annotation_files:\n",
    "    file_path = os.path.join(annotation_dir, file)\n",
    "    print(f\"{file}: {'Exists' if os.path.exists(file_path) else 'Missing'}\")"
   ]
  },
  {
   "cell_type": "markdown",
   "metadata": {},
   "source": [
    "## Define Training and Evaluation Functions"
   ]
  },
  {
   "cell_type": "code",
   "execution_count": 28,
   "metadata": {},
   "outputs": [],
   "source": [
    "def train(model, train_loader, optimizer, device):\n",
    "    model.train()\n",
    "    total_loss = 0\n",
    "    \n",
    "    for data in tqdm(train_loader, desc='Training', leave=False):\n",
    "        data = data.to(device)\n",
    "        optimizer.zero_grad()\n",
    "        \n",
    "        # Forward pass\n",
    "        output = model(data)\n",
    "        loss = torch.nn.functional.nll_loss(output, data.y)\n",
    "        \n",
    "        # Backward pass\n",
    "        loss.backward()\n",
    "        optimizer.step()\n",
    "        \n",
    "        total_loss += loss.item()\n",
    "    \n",
    "    return total_loss / len(train_loader)"
   ]
  },
  {
   "cell_type": "code",
   "execution_count": 29,
   "metadata": {},
   "outputs": [],
   "source": [
    "def evaluate(model, loader, device):\n",
    "    model.eval()\n",
    "    predictions = []\n",
    "    labels = []\n",
    "    \n",
    "    with torch.no_grad():\n",
    "        for data in loader:\n",
    "            data = data.to(device)\n",
    "            output = model(data)\n",
    "            pred = output.max(dim=1)[1]\n",
    "            \n",
    "            predictions.extend(pred.cpu().numpy())\n",
    "            labels.extend(data.y.cpu().numpy())\n",
    "    \n",
    "    # Calculate metrics\n",
    "    accuracy = accuracy_score(labels, predictions)\n",
    "    precision, recall, f1, _ = precision_recall_fscore_support(\n",
    "        labels, predictions, average='binary'\n",
    "    )\n",
    "    \n",
    "    return accuracy, precision, recall, f1"
   ]
  },
  {
   "cell_type": "code",
   "execution_count": 30,
   "metadata": {},
   "outputs": [],
   "source": [
    "def plot_metrics(train_losses, val_metrics):\n",
    "    fig, (ax1, ax2) = plt.subplots(2, 1, figsize=(12, 8))\n",
    "    \n",
    "    # Plot training loss\n",
    "    ax1.plot(train_losses, 'b-', label='Training Loss')\n",
    "    ax1.set_xlabel('Epoch')\n",
    "    ax1.set_ylabel('Loss')\n",
    "    ax1.grid(True)\n",
    "    ax1.legend()\n",
    "    \n",
    "    # Plot validation metrics\n",
    "    epochs = range(len(val_metrics['accuracy']))\n",
    "    ax2.plot(epochs, val_metrics['accuracy'], 'g-', label='Accuracy')\n",
    "    ax2.plot(epochs, val_metrics['precision'], 'r-', label='Precision')\n",
    "    ax2.plot(epochs, val_metrics['recall'], 'b-', label='Recall')\n",
    "    ax2.plot(epochs, val_metrics['f1'], 'y-', label='F1-Score')\n",
    "    ax2.set_xlabel('Epoch')\n",
    "    ax2.set_ylabel('Score')\n",
    "    ax2.grid(True)\n",
    "    ax2.legend()\n",
    "    \n",
    "    plt.tight_layout()\n",
    "    plt.show()"
   ]
  },
  {
   "cell_type": "markdown",
   "metadata": {},
   "source": [
    "## Setup Training"
   ]
  },
  {
   "cell_type": "code",
   "execution_count": null,
   "metadata": {},
   "outputs": [],
   "source": [
    "try:\n",
    "    # Set device\n",
    "    device = torch.device('cuda' if torch.cuda.is_available() else 'cpu')\n",
    "    print(f\"Using device: {device}\")\n",
    "\n",
    "    # Load datasets using absolute paths\n",
    "    train_dataset, val_dataset = load_dataset(\n",
    "        root_dir=data_dir,\n",
    "        annotation_dir=annotation_dir\n",
    "    )\n",
    "\n",
    "    print(f\"Dataset loaded: {len(train_dataset)} training samples, {len(val_dataset)} validation samples\")\n",
    "\n",
    "    # Create data loaders\n",
    "    batch_size = 32\n",
    "    train_loader = DataLoader(train_dataset, batch_size=batch_size, shuffle=True)\n",
    "    val_loader = DataLoader(val_dataset, batch_size=batch_size)\n",
    "\n",
    "    # Initialize model\n",
    "    model = PoseGCN(num_node_features=2).to(device)  # 2 features: x, y coordinates\n",
    "    optimizer = optim.Adam(model.parameters(), lr=0.001)\n",
    "\n",
    "    print(\"Model and optimizer initialized!\")\n",
    "    \n",
    "except Exception as e:\n",
    "    print(f\"Error during setup: {str(e)}\")\n",
    "    raise"
   ]
  },
  {
   "cell_type": "markdown",
   "metadata": {},
   "source": [
    "## Training Loop"
   ]
  },
  {
   "cell_type": "code",
   "execution_count": null,
   "metadata": {},
   "outputs": [],
   "source": [
    "# Training parameters\n",
    "num_epochs = 100\n",
    "best_val_acc = 0\n",
    "train_losses = []\n",
    "val_metrics = {\n",
    "    'accuracy': [], 'precision': [], 'recall': [], 'f1': []\n",
    "}\n",
    "\n",
    "# Training loop\n",
    "try:\n",
    "    for epoch in range(num_epochs):\n",
    "        # Train\n",
    "        train_loss = train(model, train_loader, optimizer, device)\n",
    "        train_losses.append(train_loss)\n",
    "        \n",
    "        # Evaluate\n",
    "        val_acc, val_prec, val_rec, val_f1 = evaluate(model, val_loader, device)\n",
    "        \n",
    "        # Store metrics\n",
    "        val_metrics['accuracy'].append(val_acc)\n",
    "        val_metrics['precision'].append(val_prec)\n",
    "        val_metrics['recall'].append(val_rec)\n",
    "        val_metrics['f1'].append(val_f1)\n",
    "        \n",
    "        # Print progress\n",
    "        print(f'Epoch {epoch+1:03d}:')\n",
    "        print(f'Train Loss: {train_loss:.4f}')\n",
    "        print(f'Val Accuracy: {val_acc:.4f}, Precision: {val_prec:.4f}, '\n",
    "              f'Recall: {val_rec:.4f}, F1: {val_f1:.4f}')\n",
    "        \n",
    "        # Save best model\n",
    "        if val_acc > best_val_acc:\n",
    "            best_val_acc = val_acc\n",
    "            torch.save({\n",
    "                'epoch': epoch,\n",
    "                'model_state_dict': model.state_dict(),\n",
    "                'optimizer_state_dict': optimizer.state_dict(),\n",
    "                'val_acc': val_acc,\n",
    "                'val_metrics': val_metrics,\n",
    "                'train_losses': train_losses\n",
    "            }, 'models/model-best_model.pth')\n",
    "            print(f\"Saved best model with validation accuracy: {val_acc:.4f}\")\n",
    "        \n",
    "        # Plot metrics every 5 epochs\n",
    "        if (epoch + 1) % 5 == 0:\n",
    "            plot_metrics(train_losses, val_metrics)\n",
    "            \n",
    "except Exception as e:\n",
    "    print(f\"Error during training: {str(e)}\")\n",
    "    raise"
   ]
  },
  {
   "cell_type": "markdown",
   "metadata": {},
   "source": [
    "## Final Evaluation"
   ]
  },
  {
   "cell_type": "code",
   "execution_count": null,
   "metadata": {},
   "outputs": [],
   "source": [
    "# Plot final training curves\n",
    "plot_metrics(train_losses, val_metrics)\n",
    "\n",
    "# Print best validation accuracy\n",
    "print(f'Best validation accuracy: {best_val_acc:.4f}')"
   ]
  }
 ],
 "metadata": {
  "kernelspec": {
   "display_name": "venv",
   "language": "python",
   "name": "python3"
  },
  "language_info": {
   "codemirror_mode": {
    "name": "ipython",
    "version": 3
   },
   "file_extension": ".py",
   "mimetype": "text/x-python",
   "name": "python",
   "nbconvert_exporter": "python",
   "pygments_lexer": "ipython3",
   "version": "3.12.6"
  }
 },
 "nbformat": 4,
 "nbformat_minor": 4
}
